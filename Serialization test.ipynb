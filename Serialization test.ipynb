{
 "cells": [
  {
   "cell_type": "code",
   "execution_count": 1,
   "metadata": {
    "collapsed": false
   },
   "outputs": [
    {
     "data": {
      "text/html": [
       "\n",
       "    <div class=\"bk-banner\">\n",
       "        <a href=\"http://bokeh.pydata.org\" target=\"_blank\" class=\"bk-logo bk-logo-small bk-logo-notebook\"></a>\n",
       "        <span id=\"d95814a3-45cd-4d3e-8654-7a5e194a0729\">Loading BokehJS ...</span>\n",
       "    </div>"
      ]
     },
     "metadata": {},
     "output_type": "display_data"
    },
    {
     "data": {
      "application/javascript": [
       "\n",
       "(function(global) {\n",
       "  function now() {\n",
       "    return new Date();\n",
       "  }\n",
       "\n",
       "  if (typeof (window._bokeh_onload_callbacks) === \"undefined\") {\n",
       "    window._bokeh_onload_callbacks = [];\n",
       "  }\n",
       "\n",
       "  function run_callbacks() {\n",
       "    window._bokeh_onload_callbacks.forEach(function(callback) { callback() });\n",
       "    delete window._bokeh_onload_callbacks\n",
       "    console.info(\"Bokeh: all callbacks have finished\");\n",
       "  }\n",
       "\n",
       "  function load_libs(js_urls, callback) {\n",
       "    window._bokeh_onload_callbacks.push(callback);\n",
       "    if (window._bokeh_is_loading > 0) {\n",
       "      console.log(\"Bokeh: BokehJS is being loaded, scheduling callback at\", now());\n",
       "      return null;\n",
       "    }\n",
       "    if (js_urls == null || js_urls.length === 0) {\n",
       "      run_callbacks();\n",
       "      return null;\n",
       "    }\n",
       "    console.log(\"Bokeh: BokehJS not loaded, scheduling load and callback at\", now());\n",
       "    window._bokeh_is_loading = js_urls.length;\n",
       "    for (var i = 0; i < js_urls.length; i++) {\n",
       "      var url = js_urls[i];\n",
       "      var s = document.createElement('script');\n",
       "      s.src = url;\n",
       "      s.async = false;\n",
       "      s.onreadystatechange = s.onload = function() {\n",
       "        window._bokeh_is_loading--;\n",
       "        if (window._bokeh_is_loading === 0) {\n",
       "          console.log(\"Bokeh: all BokehJS libraries loaded\");\n",
       "          run_callbacks()\n",
       "        }\n",
       "      };\n",
       "      s.onerror = function() {\n",
       "        console.warn(\"failed to load library \" + url);\n",
       "      };\n",
       "      console.log(\"Bokeh: injecting script tag for BokehJS library: \", url);\n",
       "      document.getElementsByTagName(\"head\")[0].appendChild(s);\n",
       "    }\n",
       "  };\n",
       "\n",
       "  var js_urls = ['https://cdn.pydata.org/bokeh/release/bokeh-0.11.1.min.js', 'https://cdn.pydata.org/bokeh/release/bokeh-widgets-0.11.1.min.js', 'https://cdn.pydata.org/bokeh/release/bokeh-compiler-0.11.1.min.js'];\n",
       "\n",
       "  var inline_js = [\n",
       "    function(Bokeh) {\n",
       "      Bokeh.set_log_level(\"info\");\n",
       "    },\n",
       "    \n",
       "    function(Bokeh) {\n",
       "      Bokeh.$(\"#d95814a3-45cd-4d3e-8654-7a5e194a0729\").text(\"BokehJS successfully loaded\");\n",
       "    },\n",
       "    function(Bokeh) {\n",
       "      console.log(\"Bokeh: injecting CSS: https://cdn.pydata.org/bokeh/release/bokeh-0.11.1.min.css\");\n",
       "      Bokeh.embed.inject_css(\"https://cdn.pydata.org/bokeh/release/bokeh-0.11.1.min.css\");\n",
       "      console.log(\"Bokeh: injecting CSS: https://cdn.pydata.org/bokeh/release/bokeh-widgets-0.11.1.min.css\");\n",
       "      Bokeh.embed.inject_css(\"https://cdn.pydata.org/bokeh/release/bokeh-widgets-0.11.1.min.css\");\n",
       "    }\n",
       "  ];\n",
       "\n",
       "  function run_inline_js() {\n",
       "    for (var i = 0; i < inline_js.length; i++) {\n",
       "      inline_js[i](window.Bokeh);\n",
       "    }\n",
       "  }\n",
       "\n",
       "  if (window._bokeh_is_loading === 0) {\n",
       "    console.log(\"Bokeh: BokehJS loaded, going straight to plotting\");\n",
       "    run_inline_js();\n",
       "  } else {\n",
       "    load_libs(js_urls, function() {\n",
       "      console.log(\"Bokeh: BokehJS plotting callback run at\", now());\n",
       "      run_inline_js();\n",
       "    });\n",
       "  }\n",
       "}(this));"
      ]
     },
     "metadata": {},
     "output_type": "display_data"
    }
   ],
   "source": [
    "# Imports from __future__ in case we're running Python 2\n",
    "from __future__ import division, print_function\n",
    "from __future__ import absolute_import, unicode_literals\n",
    "\n",
    "# Our numerical workhorses\n",
    "import numpy as np\n",
    "import scipy.integrate\n",
    "\n",
    "# Import pyplot for plotting\n",
    "import matplotlib.pyplot as plt\n",
    "\n",
    "# Import Bokeh modules for interactive plotting\n",
    "import bokeh.io\n",
    "import bokeh.mpl\n",
    "import bokeh.plotting\n",
    "\n",
    "# Magic function to make matplotlib inline; other style specs must come AFTER\n",
    "%matplotlib inline\n",
    "\n",
    "# This enables SVG graphics inline.  There is a bug, so uncomment if it works.\n",
    "# %config InlineBackend.figure_formats = {'svg',}\n",
    "\n",
    "# This enables high resolution PNGs. SVG is preferred, but has problems\n",
    "# rendering vertical and horizontal lines\n",
    "%config InlineBackend.figure_formats = {'png', 'retina'}\n",
    "\n",
    "# JB's favorite Seaborn settings for notebooks\n",
    "rc = {'lines.linewidth': 2, \n",
    "      'axes.labelsize': 18, \n",
    "      'axes.titlesize': 18, \n",
    "      'axes.facecolor': 'DFDFE5'}\n",
    "\n",
    "# Set up Bokeh for inline viewing\n",
    "bokeh.io.output_notebook()"
   ]
  },
  {
   "cell_type": "code",
   "execution_count": 2,
   "metadata": {
    "collapsed": true
   },
   "outputs": [],
   "source": [
    "import pandas as pd\n",
    "import numpy as np\n",
    "from nltk.stem.snowball import SnowballStemmer\n",
    "import xlwt\n",
    "from heapq import *\n",
    "import matplotlib.pyplot as plt\n",
    "import heapq\n",
    "\n",
    "from EM import *\n",
    "from cleaningData import *"
   ]
  },
  {
   "cell_type": "code",
   "execution_count": 3,
   "metadata": {
    "collapsed": true
   },
   "outputs": [],
   "source": [
    "def serialize(object,fichier):\n",
    "    pickle.dump(object, file(fichier,'w'))\n",
    "\n",
    "def deserialize(fichier):\n",
    "    return pickle.load(file(fichier))\n",
    "\n",
    "\n"
   ]
  },
  {
   "cell_type": "code",
   "execution_count": 5,
   "metadata": {
    "collapsed": true
   },
   "outputs": [],
   "source": [
    "import pickle"
   ]
  },
  {
   "cell_type": "code",
   "execution_count": 4,
   "metadata": {
    "collapsed": true
   },
   "outputs": [],
   "source": [
    "df = pd.read_csv(\"NIPS_1987-2015.csv\", sep=',', index_col = 0)\n",
    "df.shape\n",
    "dfTranspose = df.transpose()"
   ]
  },
  {
   "cell_type": "code",
   "execution_count": 8,
   "metadata": {
    "collapsed": false
   },
   "outputs": [
    {
     "data": {
      "text/plain": [
       "abalone         0\n",
       "abbeel          0\n",
       "abbott          0\n",
       "abbreviate      0\n",
       "abbreviated     0\n",
       "abc             0\n",
       "abeles          0\n",
       "abernethy       0\n",
       "abilistic       0\n",
       "abilities       1\n",
       "ability         0\n",
       "ables           0\n",
       "abnormal        0\n",
       "abound          0\n",
       "abrupt          0\n",
       "abs             0\n",
       "abscissa        0\n",
       "absence         1\n",
       "absent          0\n",
       "absolute        1\n",
       "absolutely      0\n",
       "absorbed        0\n",
       "absorbing       0\n",
       "absorption      0\n",
       "abstract        1\n",
       "abstraction     0\n",
       "abstractions    0\n",
       "abstracts       0\n",
       "abundance       0\n",
       "abundant        0\n",
       "               ..\n",
       "yale            0\n",
       "year            0\n",
       "years           1\n",
       "yeast           0\n",
       "yedidia         0\n",
       "yee             0\n",
       "yellow          0\n",
       "yen             0\n",
       "york            3\n",
       "yorktown        0\n",
       "yoshua          0\n",
       "young           0\n",
       "youtube         0\n",
       "zebra           0\n",
       "zeroth          0\n",
       "zha             0\n",
       "zhang           0\n",
       "zhao            0\n",
       "zheng           0\n",
       "zhong           0\n",
       "zhou            0\n",
       "zhu             0\n",
       "zien            0\n",
       "zilberstein     0\n",
       "zones           0\n",
       "zoo             0\n",
       "zoom            0\n",
       "zou             0\n",
       "zoubin          0\n",
       "zurich          0\n",
       "Name: 1987_2, dtype: int64"
      ]
     },
     "execution_count": 8,
     "metadata": {},
     "output_type": "execute_result"
    }
   ],
   "source": [
    "dfTranspose.iloc[1]"
   ]
  },
  {
   "cell_type": "code",
   "execution_count": 9,
   "metadata": {
    "collapsed": false
   },
   "outputs": [],
   "source": [
    "serialize(dfTranspose.iloc[1],\"/Users/estherboccara/Desktop/EMAlgo/PickledParameters/dfSerialized.pickle\")"
   ]
  },
  {
   "cell_type": "code",
   "execution_count": 10,
   "metadata": {
    "collapsed": false
   },
   "outputs": [
    {
     "data": {
      "text/plain": [
       "abalone         0\n",
       "abbeel          0\n",
       "abbott          0\n",
       "abbreviate      0\n",
       "abbreviated     0\n",
       "abc             0\n",
       "abeles          0\n",
       "abernethy       0\n",
       "abilistic       0\n",
       "abilities       1\n",
       "ability         0\n",
       "ables           0\n",
       "abnormal        0\n",
       "abound          0\n",
       "abrupt          0\n",
       "abs             0\n",
       "abscissa        0\n",
       "absence         1\n",
       "absent          0\n",
       "absolute        1\n",
       "absolutely      0\n",
       "absorbed        0\n",
       "absorbing       0\n",
       "absorption      0\n",
       "abstract        1\n",
       "abstraction     0\n",
       "abstractions    0\n",
       "abstracts       0\n",
       "abundance       0\n",
       "abundant        0\n",
       "               ..\n",
       "yale            0\n",
       "year            0\n",
       "years           1\n",
       "yeast           0\n",
       "yedidia         0\n",
       "yee             0\n",
       "yellow          0\n",
       "yen             0\n",
       "york            3\n",
       "yorktown        0\n",
       "yoshua          0\n",
       "young           0\n",
       "youtube         0\n",
       "zebra           0\n",
       "zeroth          0\n",
       "zha             0\n",
       "zhang           0\n",
       "zhao            0\n",
       "zheng           0\n",
       "zhong           0\n",
       "zhou            0\n",
       "zhu             0\n",
       "zien            0\n",
       "zilberstein     0\n",
       "zones           0\n",
       "zoo             0\n",
       "zoom            0\n",
       "zou             0\n",
       "zoubin          0\n",
       "zurich          0\n",
       "Name: 1987_2, dtype: int64"
      ]
     },
     "execution_count": 10,
     "metadata": {},
     "output_type": "execute_result"
    }
   ],
   "source": [
    "deserialize(\"/Users/estherboccara/Desktop/EMAlgo/PickledParameters/dfSerialized.pickle\")"
   ]
  },
  {
   "cell_type": "code",
   "execution_count": 12,
   "metadata": {
    "collapsed": false
   },
   "outputs": [],
   "source": [
    "dic = {}\n",
    "dic['k'] = 3\n"
   ]
  },
  {
   "cell_type": "code",
   "execution_count": 13,
   "metadata": {
    "collapsed": false
   },
   "outputs": [
    {
     "data": {
      "text/plain": [
       "{u'k': 3}"
      ]
     },
     "execution_count": 13,
     "metadata": {},
     "output_type": "execute_result"
    }
   ],
   "source": [
    "dic"
   ]
  },
  {
   "cell_type": "code",
   "execution_count": null,
   "metadata": {
    "collapsed": true
   },
   "outputs": [],
   "source": []
  }
 ],
 "metadata": {
  "kernelspec": {
   "display_name": "Python 2",
   "language": "python",
   "name": "python2"
  },
  "language_info": {
   "codemirror_mode": {
    "name": "ipython",
    "version": 2
   },
   "file_extension": ".py",
   "mimetype": "text/x-python",
   "name": "python",
   "nbconvert_exporter": "python",
   "pygments_lexer": "ipython2",
   "version": "2.7.13"
  }
 },
 "nbformat": 4,
 "nbformat_minor": 0
}
